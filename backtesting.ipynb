{
 "cells": [
  {
   "cell_type": "code",
   "execution_count": 7,
   "metadata": {},
   "outputs": [],
   "source": [
    "import pandas as pd\n",
    "import time\n",
    "from binance.client import Client\n",
    "import time\n",
    "from datetime import datetime\n",
    "\n",
    "\n",
    "def Binance(stocks,time,start,final): #“1 Jan, 2018”\n",
    "    api_key= 'ofn1WcwGN6Xkvf70Wkyv67mPr8kmfGbtOYI8Ct2roDLixKIiXwGm43Kk8YIT6Ott'\n",
    "    api_secret= '0lwI0nrTC60r1TA4i4z4LD9KlaOpDogcdxVrklA7fhcobZtAXk8e6lHKfdCaanpM'\n",
    "    client = Client(api_key, api_secret)\n",
    "    bars= client.get_historical_klines(stocks, time,  start, final)#get_historical_klines\n",
    "    date=[]\n",
    "    open_hour=[]\n",
    "    high_price=[]\n",
    "    low_price=[]\n",
    "    close_price=[]\n",
    "    volume=[]\n",
    "    Date_correct={'Jan':1,'Feb':2,'Mar':3,'Apr':4,'May':5,'Jun':6,'Jul':7,'Aug':8,'Sep':9,'Oct':10,'Nov':11,'Dec':12}\n",
    "    for bar in bars:\n",
    "        time_=datetime.fromtimestamp(int(bar[0])//1000)#.weekday<5#.strftime(“%Y %m %d %HH:%M:%S”) +pd.Timedelta(hours=-9)\n",
    "        # time_[3]=time_[3].replace(‘H’,‘’)\n",
    "        # date.append(f’{int(time_[0])}-{int(time_[1])}-{int(time_[2])}-{time_[3]}’)\n",
    "        date.append(time_)\n",
    "        open_hour.append(float(bar[1]))\n",
    "        high_price.append(float(bar[2]))\n",
    "        low_price.append(float(bar[3]))\n",
    "        close_price.append(float(bar[4]))\n",
    "        volume.append(float(bar[5]))\n",
    "    Price_data=pd.DataFrame(data={'Date':date,'Open':open_hour,'High':high_price,'Low':low_price,'Close':close_price,'Volume':volume}).set_index('Date')\n",
    "    return Price_data\n",
    "# valid intervals - 1m, 3m, 5m, 15m, 30m, 1h, 2h, 4h, 6h, 8h, 12h, 1d, 3d, 1w, 1M\n",
    "#{‘Jan’:1,‘Feb’:2,‘Mar’:3,‘Apr’:4,‘May’:5,‘Jun’:6,‘Jul’:7,‘Aug’:8,‘Sep’:9,‘Oct’:10,‘Nov’:11,‘Dec’:12}\n",
    "#BTCUSDT ETHUSDT\n",
    "binance=Binance('BTCUSDT','15m','1 Jan,2017','31 Dec ,2022')"
   ]
  },
  {
   "cell_type": "code",
   "execution_count": 6,
   "metadata": {},
   "outputs": [
    {
     "name": "stdout",
     "output_type": "stream",
     "text": [
      "Start                     2019-09-09 02:45:00\n",
      "End                       2022-12-31 09:00:00\n",
      "Duration                   1209 days 06:15:00\n",
      "Exposure Time [%]                   13.710053\n",
      "Equity Final [$]                 1600569.4512\n",
      "Equity Peak [$]                  1646870.4512\n",
      "Return [%]                          60.056945\n",
      "Buy & Hold Return [%]                  65.859\n",
      "Return (Ann.) [%]                   15.244445\n",
      "Volatility (Ann.) [%]               19.884844\n",
      "Sharpe Ratio                         0.766636\n",
      "Sortino Ratio                        1.693663\n",
      "Calmar Ratio                         0.867249\n",
      "Max. Drawdown [%]                  -17.577924\n",
      "Avg. Drawdown [%]                   -1.782538\n",
      "Max. Drawdown Duration      777 days 22:30:00\n",
      "Avg. Drawdown Duration       13 days 20:47:00\n",
      "# Trades                                  249\n",
      "Win Rate [%]                        42.971888\n",
      "Best Trade [%]                       4.990748\n",
      "Worst Trade [%]                     -8.972289\n",
      "Avg. Trade [%]                       0.294734\n",
      "Max. Trade Duration           2 days 07:00:00\n",
      "Avg. Trade Duration           0 days 15:45:00\n",
      "Profit Factor                        1.423182\n",
      "Expectancy [%]                       0.328763\n",
      "SQN                                   1.58857\n",
      "_strategy                            SmaCross\n",
      "_equity_curve                             ...\n",
      "_trades                        Size  Entry...\n",
      "dtype: object\n"
     ]
    }
   ],
   "source": [
    "from backtesting import Backtest, Strategy\n",
    "from backtesting.lib import crossover\n",
    "from backtesting.test import SMA\n",
    "import talib as ta\n",
    "\n",
    "class SmaCross(Strategy):\n",
    "    upper_bound = 70\n",
    "    lower_bound = 30\n",
    "    def init(self):\n",
    "        self.rsi = self.I(ta.RSI, self.data.Close, 14)\n",
    "        self.can_buy = False\n",
    "        price = self.data.Close\n",
    "        high_sma = 100\n",
    "        low_sma = 20\n",
    "        self.high = self.I(ta.SMA, price, high_sma)\n",
    "        self.low = self.I(ta.SMA, price, low_sma)\n",
    "    # 포지션 사이즈 조절, 손절 라인 확정.\n",
    "    def next(self):\n",
    "        if crossover(self.rsi, self.upper_bound):\n",
    "            self.buy(sl=.005*self.data.Close[-1],tp=self.data.Close[-1]*.05+self.data.Close[-1],size=100) \n",
    "            self.can_buy = False\n",
    "        elif crossover(self.lower_bound, self.rsi): \n",
    "            self.position.close()\n",
    "            self.can_buy = True\n",
    "        if crossover(self.low,self.high):\n",
    "            self.position.close() \n",
    "                \n",
    "\n",
    "\n",
    "\n",
    "    \n",
    "bt=Backtest(binance,SmaCross,cash=1000000,commission=0.0004)\n",
    "stats = bt.run()\n",
    "\n",
    "# # stats.plot()\n",
    "\n",
    "print(stats)"
   ]
  },
  {
   "cell_type": "code",
   "execution_count": 6,
   "metadata": {},
   "outputs": [],
   "source": [
    "test = pd.DataFrame(stats['_trades'])\n",
    "test.to_csv('Lee_final.csv')"
   ]
  },
  {
   "cell_type": "code",
   "execution_count": null,
   "metadata": {},
   "outputs": [],
   "source": []
  },
  {
   "cell_type": "code",
   "execution_count": 5,
   "metadata": {},
   "outputs": [
    {
     "data": {
      "text/html": [
       "<div>\n",
       "<style scoped>\n",
       "    .dataframe tbody tr th:only-of-type {\n",
       "        vertical-align: middle;\n",
       "    }\n",
       "\n",
       "    .dataframe tbody tr th {\n",
       "        vertical-align: top;\n",
       "    }\n",
       "\n",
       "    .dataframe thead th {\n",
       "        text-align: right;\n",
       "    }\n",
       "</style>\n",
       "<table border=\"1\" class=\"dataframe\">\n",
       "  <thead>\n",
       "    <tr style=\"text-align: right;\">\n",
       "      <th></th>\n",
       "      <th>model</th>\n",
       "      <th>win_rate</th>\n",
       "      <th>defeat_rate</th>\n",
       "    </tr>\n",
       "  </thead>\n",
       "  <tbody>\n",
       "    <tr>\n",
       "      <th>0</th>\n",
       "      <td>seo</td>\n",
       "      <td>43</td>\n",
       "      <td>57</td>\n",
       "    </tr>\n",
       "    <tr>\n",
       "      <th>1</th>\n",
       "      <td>young</td>\n",
       "      <td>38</td>\n",
       "      <td>62</td>\n",
       "    </tr>\n",
       "    <tr>\n",
       "      <th>2</th>\n",
       "      <td>yun</td>\n",
       "      <td>29</td>\n",
       "      <td>71</td>\n",
       "    </tr>\n",
       "    <tr>\n",
       "      <th>3</th>\n",
       "      <td>moon</td>\n",
       "      <td>54</td>\n",
       "      <td>46</td>\n",
       "    </tr>\n",
       "  </tbody>\n",
       "</table>\n",
       "</div>"
      ],
      "text/plain": [
       "   model  win_rate  defeat_rate\n",
       "0    seo        43           57\n",
       "1  young        38           62\n",
       "2    yun        29           71\n",
       "3   moon        54           46"
      ]
     },
     "execution_count": 5,
     "metadata": {},
     "output_type": "execute_result"
    }
   ],
   "source": [
    "import pandas as pd\n",
    "\n",
    "win_df = pd.read_csv('./win_rate.csv')\n",
    "win_df"
   ]
  },
  {
   "cell_type": "code",
   "execution_count": 6,
   "metadata": {},
   "outputs": [
    {
     "data": {
      "text/plain": [
       "<pandas.core.groupby.generic.DataFrameGroupBy object at 0x0000016901478088>"
      ]
     },
     "execution_count": 6,
     "metadata": {},
     "output_type": "execute_result"
    }
   ],
   "source": [
    "win_df = win_df.groupby(by=['model'])\n",
    "win_df"
   ]
  },
  {
   "cell_type": "code",
   "execution_count": 3,
   "metadata": {},
   "outputs": [
    {
     "data": {
      "text/html": [
       "        <script type=\"text/javascript\">\n",
       "        window.PlotlyConfig = {MathJaxConfig: 'local'};\n",
       "        if (window.MathJax && window.MathJax.Hub && window.MathJax.Hub.Config) {window.MathJax.Hub.Config({SVG: {font: \"STIX-Web\"}});}\n",
       "        if (typeof require !== 'undefined') {\n",
       "        require.undef(\"plotly\");\n",
       "        requirejs.config({\n",
       "            paths: {\n",
       "                'plotly': ['https://cdn.plot.ly/plotly-2.17.1.min']\n",
       "            }\n",
       "        });\n",
       "        require(['plotly'], function(Plotly) {\n",
       "            window._Plotly = Plotly;\n",
       "        });\n",
       "        }\n",
       "        </script>\n",
       "        "
      ]
     },
     "metadata": {},
     "output_type": "display_data"
    }
   ],
   "source": [
    "import cufflinks as cf\n",
    "cf.go_offline()\n",
    "cf.set_config_file(offline=False, world_readable=True)"
   ]
  },
  {
   "cell_type": "code",
   "execution_count": 12,
   "metadata": {},
   "outputs": [
    {
     "ename": "NameError",
     "evalue": "name 'dataset' is not defined",
     "output_type": "error",
     "traceback": [
      "\u001b[1;31m---------------------------------------------------------------------------\u001b[0m",
      "\u001b[1;31mNameError\u001b[0m                                 Traceback (most recent call last)",
      "\u001b[1;32m~\\AppData\\Local\\Temp\\ipykernel_9604\\1715011349.py\u001b[0m in \u001b[0;36m<module>\u001b[1;34m\u001b[0m\n\u001b[1;32m----> 1\u001b[1;33m \u001b[0mdataset\u001b[0m\u001b[1;33m[\u001b[0m\u001b[1;34m\"columns\"\u001b[0m\u001b[1;33m]\u001b[0m\u001b[1;33m.\u001b[0m\u001b[0miplot\u001b[0m\u001b[1;33m(\u001b[0m\u001b[0mkind\u001b[0m\u001b[1;33m=\u001b[0m\u001b[1;34m\"box\"\u001b[0m\u001b[1;33m)\u001b[0m\u001b[1;33m\u001b[0m\u001b[1;33m\u001b[0m\u001b[0m\n\u001b[0m",
      "\u001b[1;31mNameError\u001b[0m: name 'dataset' is not defined"
     ]
    }
   ],
   "source": [
    "/"
   ]
  },
  {
   "cell_type": "code",
   "execution_count": null,
   "metadata": {},
   "outputs": [],
   "source": []
  },
  {
   "cell_type": "code",
   "execution_count": null,
   "metadata": {},
   "outputs": [],
   "source": [
    "# RSI 쓸 때 계속 내려가면 30 내려가면 사는게 아니라 50으로 잡고 50이상 매수 50이하 매도. \n",
    "# RSI 30 갔다가 올라갈 때 30에서 벗어날 때 매수. 재용이형. \n",
    "# RSI 30으로 내려갈때 역매수 하는 거 재밋을 듯."
   ]
  },
  {
   "cell_type": "code",
   "execution_count": 13,
   "metadata": {},
   "outputs": [],
   "source": [
    "import pandas as pd\n",
    "# row 생략 없이 출력\n",
    "pd.set_option('display.max_rows', 60)\n",
    "# col 생략 없이 출력\n",
    "pd.set_option('display.max_columns', 20)"
   ]
  },
  {
   "cell_type": "code",
   "execution_count": null,
   "metadata": {},
   "outputs": [],
   "source": [
    "# if not self.position:\n",
    "            # self.can_buy = False"
   ]
  },
  {
   "cell_type": "code",
   "execution_count": null,
   "metadata": {},
   "outputs": [],
   "source": [
    "# if not self.position:\n",
    "#  if crossover(self.middle,self.high):\n",
    "#                      self.buy(sl=.005*self.data.Close[-1],tp=self.data.Close[-1]*.05+self.data.Close[-1],size=0.2)\n",
    "#                     # self.can_buy = False\n",
    "#                 elif crossover(self.high, self.middle):\n",
    "#                      self.position.close() # 매수, 매도 호출 buy(), sell("
   ]
  },
  {
   "cell_type": "code",
   "execution_count": null,
   "metadata": {},
   "outputs": [],
   "source": [
    "import pandas as pd\n",
    "Yun_final=pd.read_csv('./YunFinal.csv').iloc[:,[8,6]]\n",
    "Yun_original=pd.read_csv('./YunOriginal.csv').iloc[:,[8,6]]\n",
    "final=pd.merge(Yun_original, Yun_final, how='outer')\n",
    "final=final.fillna(method='ffill')"
   ]
  },
  {
   "cell_type": "code",
   "execution_count": null,
   "metadata": {},
   "outputs": [],
   "source": []
  },
  {
   "cell_type": "code",
   "execution_count": null,
   "metadata": {},
   "outputs": [],
   "source": []
  }
 ],
 "metadata": {
  "kernelspec": {
   "display_name": "test",
   "language": "python",
   "name": "python3"
  },
  "language_info": {
   "codemirror_mode": {
    "name": "ipython",
    "version": 3
   },
   "file_extension": ".py",
   "mimetype": "text/x-python",
   "name": "python",
   "nbconvert_exporter": "python",
   "pygments_lexer": "ipython3",
   "version": "3.7.15"
  },
  "orig_nbformat": 4,
  "vscode": {
   "interpreter": {
    "hash": "340bc78970d86bbb01120324cbe0e94b0743d6ec084918b87b4b89b6728243d7"
   }
  }
 },
 "nbformat": 4,
 "nbformat_minor": 2
}
