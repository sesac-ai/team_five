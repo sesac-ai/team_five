{
 "cells": [
  {
   "cell_type": "code",
   "execution_count": 7,
   "metadata": {},
   "outputs": [],
   "source": [
    "import pandas as pd\n",
    "import time\n",
    "from binance.client import Client\n",
    "import time\n",
    "from datetime import datetime\n",
    "\n",
    "\n",
    "def Binance(stocks,time,start,final): #“1 Jan, 2018”\n",
    "    api_key= 'ofn1WcwGN6Xkvf70Wkyv67mPr8kmfGbtOYI8Ct2roDLixKIiXwGm43Kk8YIT6Ott'\n",
    "    api_secret= '0lwI0nrTC60r1TA4i4z4LD9KlaOpDogcdxVrklA7fhcobZtAXk8e6lHKfdCaanpM'\n",
    "    client = Client(api_key, api_secret)\n",
    "    bars= client.get_historical_klines(stocks, time,  start, final)#get_historical_klines\n",
    "    date=[]\n",
    "    open_hour=[]\n",
    "    high_price=[]\n",
    "    low_price=[]\n",
    "    close_price=[]\n",
    "    volume=[]\n",
    "    Date_correct={'Jan':1,'Feb':2,'Mar':3,'Apr':4,'May':5,'Jun':6,'Jul':7,'Aug':8,'Sep':9,'Oct':10,'Nov':11,'Dec':12}\n",
    "    for bar in bars:\n",
    "        time_=datetime.fromtimestamp(int(bar[0])//1000)#.weekday<5#.strftime(“%Y %m %d %HH:%M:%S”) +pd.Timedelta(hours=-9)\n",
    "        # time_[3]=time_[3].replace(‘H’,‘’)\n",
    "        # date.append(f’{int(time_[0])}-{int(time_[1])}-{int(time_[2])}-{time_[3]}’)\n",
    "        date.append(time_)\n",
    "        open_hour.append(float(bar[1]))\n",
    "        high_price.append(float(bar[2]))\n",
    "        low_price.append(float(bar[3]))\n",
    "        close_price.append(float(bar[4]))\n",
    "        volume.append(float(bar[5]))\n",
    "    Price_data=pd.DataFrame(data={'Date':date,'Open':open_hour,'High':high_price,'Low':low_price,'Close':close_price,'Volume':volume}).set_index('Date')\n",
    "    return Price_data\n",
    "# valid intervals - 1m, 3m, 5m, 15m, 30m, 1h, 2h, 4h, 6h, 8h, 12h, 1d, 3d, 1w, 1M\n",
    "#{‘Jan’:1,‘Feb’:2,‘Mar’:3,‘Apr’:4,‘May’:5,‘Jun’:6,‘Jul’:7,‘Aug’:8,‘Sep’:9,‘Oct’:10,‘Nov’:11,‘Dec’:12}\n",
    "#BTCUSDT ETHUSDT\n",
    "binance=Binance('BTCUSDT','15m','1 Jan,2017','31 Dec ,2022')"
   ]
  },
  {
   "cell_type": "code",
   "execution_count": 6,
   "metadata": {},
   "outputs": [
    {
     "name": "stdout",
     "output_type": "stream",
     "text": [
      "Start                     2019-09-09 02:45:00\n",
      "End                       2022-12-31 09:00:00\n",
      "Duration                   1209 days 06:15:00\n",
      "Exposure Time [%]                   13.710053\n",
      "Equity Final [$]                 1600569.4512\n",
      "Equity Peak [$]                  1646870.4512\n",
      "Return [%]                          60.056945\n",
      "Buy & Hold Return [%]                  65.859\n",
      "Return (Ann.) [%]                   15.244445\n",
      "Volatility (Ann.) [%]               19.884844\n",
      "Sharpe Ratio                         0.766636\n",
      "Sortino Ratio                        1.693663\n",
      "Calmar Ratio                         0.867249\n",
      "Max. Drawdown [%]                  -17.577924\n",
      "Avg. Drawdown [%]                   -1.782538\n",
      "Max. Drawdown Duration      777 days 22:30:00\n",
      "Avg. Drawdown Duration       13 days 20:47:00\n",
      "# Trades                                  249\n",
      "Win Rate [%]                        42.971888\n",
      "Best Trade [%]                       4.990748\n",
      "Worst Trade [%]                     -8.972289\n",
      "Avg. Trade [%]                       0.294734\n",
      "Max. Trade Duration           2 days 07:00:00\n",
      "Avg. Trade Duration           0 days 15:45:00\n",
      "Profit Factor                        1.423182\n",
      "Expectancy [%]                       0.328763\n",
      "SQN                                   1.58857\n",
      "_strategy                            SmaCross\n",
      "_equity_curve                             ...\n",
      "_trades                        Size  Entry...\n",
      "dtype: object\n"
     ]
    }
   ],
   "source": [
    "from backtesting import Backtest, Strategy\n",
    "from backtesting.lib import crossover\n",
    "from backtesting.test import SMA\n",
    "import talib as ta\n",
    "\n",
    "class SmaCross(Strategy):\n",
    "    upper_bound = 70\n",
    "    lower_bound = 30\n",
    "    def init(self):\n",
    "        self.rsi = self.I(ta.RSI, self.data.Close, 14)\n",
    "        self.can_buy = False\n",
    "        price = self.data.Close\n",
    "        high_sma = 100\n",
    "        low_sma = 20\n",
    "        self.high = self.I(ta.SMA, price, high_sma)\n",
    "        self.low = self.I(ta.SMA, price, low_sma)\n",
    "    # 포지션 사이즈 조절, 손절 라인 확정.\n",
    "    def next(self):\n",
    "        if crossover(self.rsi, self.upper_bound):\n",
    "            self.buy(sl=.005*self.data.Close[-1],tp=self.data.Close[-1]*.05+self.data.Close[-1],size=100) \n",
    "            self.can_buy = False\n",
    "        elif crossover(self.lower_bound, self.rsi): \n",
    "            self.position.close()\n",
    "            self.can_buy = True\n",
    "        if crossover(self.low,self.high):\n",
    "            self.position.close() \n",
    "                \n",
    "\n",
    "\n",
    "\n",
    "    \n",
    "bt=Backtest(binance,SmaCross,cash=1000000,commission=0.0004)\n",
    "stats = bt.run()\n",
    "\n",
    "# # stats.plot()\n",
    "\n",
    "print(stats)"
   ]
  }
 ],
 "metadata": {
  "kernelspec": {
   "display_name": "test",
   "language": "python",
   "name": "python3"
  },
  "language_info": {
   "codemirror_mode": {
    "name": "ipython",
    "version": 3
   },
   "file_extension": ".py",
   "mimetype": "text/x-python",
   "name": "python",
   "nbconvert_exporter": "python",
   "pygments_lexer": "ipython3",
   "version": "3.7.15 (default, Nov 24 2022, 18:44:54) [MSC v.1916 64 bit (AMD64)]"
  },
  "orig_nbformat": 4,
  "vscode": {
   "interpreter": {
    "hash": "340bc78970d86bbb01120324cbe0e94b0743d6ec084918b87b4b89b6728243d7"
   }
  }
 },
 "nbformat": 4,
 "nbformat_minor": 2
}
